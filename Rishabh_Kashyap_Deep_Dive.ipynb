{
 "cells": [
  {
   "cell_type": "code",
   "execution_count": 1,
   "metadata": {},
   "outputs": [],
   "source": [
    "def deep_dive(manufact,target,reference):\n",
    "    \n",
    "    # Importing required library\n",
    "    import pandas as pd\n",
    "    \n",
    "    # Reading the excel file\n",
    "    df = pd.read_excel('Case Study - Deep Dive Analysis.xlsx')\n",
    "    \n",
    "    # taking out month and year from the date \n",
    "    df['month_num'] = pd.DatetimeIndex(df['month']).month\n",
    "    df['year']  = pd.DatetimeIndex(df['month']).year\n",
    "    \n",
    "    # extracting month and year from user input\n",
    "    target_month = target[:3].title()\n",
    "    reference_month = reference[:3].title()\n",
    "    target_year = pd.to_numeric(target[3:])\n",
    "    reference_year = pd.to_numeric(reference[3:])\n",
    "    \n",
    "    # dictionary to map month\n",
    "    mapped_months = {'Jan':1, 'Feb':2, 'Mar':3, 'Apr':4, 'May':5, 'Jun':6, 'Jul':7, 'Aug':8, 'Sep':9, 'Oct':10, 'Nov':11, 'Dec':12}\n",
    "\n",
    "    # mapping month to it's numeral\n",
    "    month_target_period = [value for key, value in mapped_months.items() if target_month == key][0]\n",
    "    month_reference_period = [value for key, value in mapped_months.items() if reference_month == key][0]\n",
    "    \n",
    "    # selecting data as per target and reference window\n",
    "    df1 = df.query('Manufacturer == @manufact.upper() & month_num <= @month_target_period & year <= @target_year & month_num >= @month_reference_period & year >= @reference_year')\n",
    "    \n",
    "    # creating a grouped table\n",
    "    temp = df1.groupby('month').sum()\n",
    "    \n",
    "    # grouped on geo and product level\n",
    "    temp1  = df1.groupby(['month','Zone','Region','Brand','Subbrand'], as_index=False).sum()\n",
    "    \n",
    "    # creating grouped tables for all the levels\n",
    "    zone_group = temp1.groupby(['month', 'Zone'],as_index=False).sum()\n",
    "    region_group = temp1.groupby(['month','Region'],as_index=False).sum()\n",
    "    brand_group = temp1.groupby(['month', 'Brand'],as_index=False).sum()\n",
    "    subbrand_group = temp1.groupby(['month', 'Subbrand'],as_index=False).sum()\n",
    "    \n",
    "    # list to store the results\n",
    "    lev = []\n",
    "    \n",
    "    # calculating Growth_Rate, Contribution for Zone, Region, Brand and Subbrand levels respectively\n",
    "    for i in range(0, len(zone_group.index)//2):\n",
    "        for j in range(0, len(zone_group.index)):\n",
    "            if (zone_group['month'][i] != zone_group['month'][j] and zone_group['Zone'][i] == zone_group['Zone'][j]):\n",
    "                lev.append(['Zone',zone_group['Zone'][i],(zone_group['Value Offtake(000 Rs)'][j] - zone_group['Value Offtake(000 Rs)'][i]),(zone_group['Value Offtake(000 Rs)'][j]*100)/zone_group['Value Offtake(000 Rs)'][(len(zone_group.index)//2):].sum()])\n",
    "                \n",
    "    for i in range(0, len(region_group.index)//2):\n",
    "        for j in range(0, len(region_group.index)):\n",
    "            if (region_group['month'][i] != region_group['month'][j] and region_group['Region'][i] == region_group['Region'][j]):\n",
    "                lev.append(['Region',region_group['Region'][i],(region_group['Value Offtake(000 Rs)'][j] - region_group['Value Offtake(000 Rs)'][i]),(region_group['Value Offtake(000 Rs)'][j]*100)/region_group['Value Offtake(000 Rs)'][(len(region_group.index)//2):].sum()])\n",
    "                \n",
    "    for i in range(0, len(brand_group.index)//2):\n",
    "        for j in range(0, len(brand_group.index)):\n",
    "            if (brand_group['month'][i] != brand_group['month'][j] and brand_group['Brand'][i] == brand_group['Brand'][j]):\n",
    "                lev.append(['Brand',brand_group['Brand'][i],(brand_group['Value Offtake(000 Rs)'][j] - brand_group['Value Offtake(000 Rs)'][i]),(brand_group['Value Offtake(000 Rs)'][j]*100)/brand_group['Value Offtake(000 Rs)'][(len(brand_group.index)//2):].sum()])\n",
    "                \n",
    "    for i in range(0, len(subbrand_group.index)//2):\n",
    "        for j in range(0, len(subbrand_group.index)):\n",
    "            if (subbrand_group['month'][i] != subbrand_group['month'][j] and subbrand_group['Subbrand'][i] == subbrand_group['Subbrand'][j]):\n",
    "                lev.append(['Subbrand',subbrand_group['Subbrand'][i],(subbrand_group['Value Offtake(000 Rs)'][j] - subbrand_group['Value Offtake(000 Rs)'][i]),(subbrand_group['Value Offtake(000 Rs)'][j]*100)/subbrand_group['Value Offtake(000 Rs)'][(len(subbrand_group.index)//2):].sum()])\n",
    "        \n",
    "    # creating a dataframe to list Manufacturer, Level, Focus_Area, Growth_Area, Contribution and Product\n",
    "    output = pd.DataFrame(lev, columns=['Level','Focus_Area','Growth_Rate','Contribution'])\n",
    "    output.insert(0,'Manufacturer',manufact.upper())\n",
    "    output['Product'] = (output['Growth_Rate'] * output['Contribution'])/10000\n",
    "    output = output.round(2)\n",
    "    \n",
    "    # Final call to return the appropriate results\n",
    "    if (temp.iloc[0][0] - temp.iloc[1][0]) == 0:\n",
    "        return(f'There is no drop in the sales for {a} in the {c} - {b}')\n",
    "    else:\n",
    "        return(output)"
   ]
  },
  {
   "cell_type": "code",
   "execution_count": 2,
   "metadata": {},
   "outputs": [
    {
     "name": "stdout",
     "output_type": "stream",
     "text": [
      "  Manufacturer     Level      Focus_Area  Growth_Rate  Contribution  Product\n",
      "0       NESTLE      Zone            East       656.63         29.79     1.96\n",
      "1       NESTLE      Zone           North       -59.31         30.87    -0.18\n",
      "2       NESTLE      Zone           South        65.02         13.84     0.09\n",
      "3       NESTLE      Zone            West        79.55         25.50     0.20\n",
      "4       NESTLE    Region           Rural        43.66         25.21     0.11\n",
      "5       NESTLE    Region           Urban       698.24         74.79     5.22\n",
      "6       NESTLE     Brand            MILO       741.89        100.00     7.42\n",
      "7       NESTLE  Subbrand  MILO ACTIVE GO       741.89        100.00     7.42\n"
     ]
    }
   ],
   "source": [
    "print(deep_dive('nestle','may2019','apr2019'))"
   ]
  }
 ],
 "metadata": {
  "kernelspec": {
   "display_name": "Python 3",
   "language": "python",
   "name": "python3"
  },
  "language_info": {
   "codemirror_mode": {
    "name": "ipython",
    "version": 3
   },
   "file_extension": ".py",
   "mimetype": "text/x-python",
   "name": "python",
   "nbconvert_exporter": "python",
   "pygments_lexer": "ipython3",
   "version": "3.7.6"
  }
 },
 "nbformat": 4,
 "nbformat_minor": 4
}
